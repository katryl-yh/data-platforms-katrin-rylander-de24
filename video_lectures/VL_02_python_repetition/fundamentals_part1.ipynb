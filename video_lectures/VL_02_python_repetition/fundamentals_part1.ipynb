{
 "cells": [
  {
   "cell_type": "markdown",
   "metadata": {},
   "source": [
    "# Python fundamentals part 1"
   ]
  },
  {
   "cell_type": "markdown",
   "metadata": {},
   "source": [
    "## Input and output"
   ]
  },
  {
   "cell_type": "code",
   "execution_count": 27,
   "metadata": {},
   "outputs": [
    {
     "name": "stdout",
     "output_type": "stream",
     "text": [
      "Hello\n"
     ]
    }
   ],
   "source": [
    "print(\"Hello\")"
   ]
  },
  {
   "cell_type": "code",
   "execution_count": 28,
   "metadata": {},
   "outputs": [
    {
     "name": "stdout",
     "output_type": "stream",
     "text": [
      "\n"
     ]
    }
   ],
   "source": [
    "myfruit = input()\n",
    "\n",
    "print(myfruit)"
   ]
  },
  {
   "cell_type": "code",
   "execution_count": 29,
   "metadata": {},
   "outputs": [
    {
     "name": "stdout",
     "output_type": "stream",
     "text": [
      "I like \n",
      "I like \n"
     ]
    }
   ],
   "source": [
    "print(f\"I like {myfruit}\")\n",
    "print(\"I like \" + myfruit) # without f-string"
   ]
  },
  {
   "cell_type": "markdown",
   "metadata": {},
   "source": [
    "## Data types"
   ]
  },
  {
   "cell_type": "code",
   "execution_count": 30,
   "metadata": {},
   "outputs": [
    {
     "data": {
      "text/plain": [
       "'Katrin'"
      ]
     },
     "execution_count": 30,
     "metadata": {},
     "output_type": "execute_result"
    }
   ],
   "source": [
    "name = \"Katrin\"\n",
    "name"
   ]
  },
  {
   "cell_type": "code",
   "execution_count": 31,
   "metadata": {},
   "outputs": [
    {
     "data": {
      "text/plain": [
       "str"
      ]
     },
     "execution_count": 31,
     "metadata": {},
     "output_type": "execute_result"
    }
   ],
   "source": [
    "type(name)"
   ]
  },
  {
   "cell_type": "code",
   "execution_count": 32,
   "metadata": {},
   "outputs": [],
   "source": [
    "age = 39.1 # double\n",
    "number_of_children = 1 # int\n",
    "loves_math = True # bool"
   ]
  },
  {
   "cell_type": "code",
   "execution_count": 33,
   "metadata": {},
   "outputs": [
    {
     "data": {
      "text/plain": [
       "('Katrin', 39.1, 1, True)"
      ]
     },
     "execution_count": 33,
     "metadata": {},
     "output_type": "execute_result"
    }
   ],
   "source": [
    "name, age, number_of_children, loves_math # when we write like this we get a tuple!"
   ]
  },
  {
   "cell_type": "markdown",
   "metadata": {},
   "source": [
    "## f-strings"
   ]
  },
  {
   "cell_type": "code",
   "execution_count": 34,
   "metadata": {},
   "outputs": [
    {
     "name": "stdout",
     "output_type": "stream",
     "text": [
      "type(name): <class 'str'>\n",
      "type(age): <class 'float'>\n",
      "type(loves_math): <class 'bool'>\n",
      "type(number_of_children) =<class 'int'>\n"
     ]
    }
   ],
   "source": [
    "# we get class 'str' when we use fstring with type string, it has to do with\n",
    "# that comes from OOP __str__ \n",
    "print(f\"type(name): {type(name)}\") \n",
    "print(f\"type(age): {type(age)}\") \n",
    "print(f\"type(loves_math): {type(loves_math)}\") \n",
    "print(f\"{type(number_of_children) =}\") \n"
   ]
  },
  {
   "cell_type": "code",
   "execution_count": 35,
   "metadata": {},
   "outputs": [
    {
     "name": "stdout",
     "output_type": "stream",
     "text": [
      "name ='Katrin'\n"
     ]
    }
   ],
   "source": [
    "# worth remembering if we want to quickly understand our variables!\n",
    "print(f\"{name =}\")"
   ]
  },
  {
   "cell_type": "markdown",
   "metadata": {},
   "source": [
    "## Collection types: list, tuple, set, dictionary"
   ]
  },
  {
   "cell_type": "markdown",
   "metadata": {},
   "source": [
    "## list"
   ]
  },
  {
   "cell_type": "code",
   "execution_count": 36,
   "metadata": {},
   "outputs": [
    {
     "data": {
      "text/plain": [
       "['badminton', 'yoga', 'math', 'programming']"
      ]
     },
     "execution_count": 36,
     "metadata": {},
     "output_type": "execute_result"
    }
   ],
   "source": [
    "interests = [\"badminton\", \"yoga\", \"math\", \"programming\"]\n",
    "interests"
   ]
  },
  {
   "cell_type": "code",
   "execution_count": 37,
   "metadata": {},
   "outputs": [
    {
     "data": {
      "text/plain": [
       "['Katrin', 39.1, 1, True]"
      ]
     },
     "execution_count": 37,
     "metadata": {},
     "output_type": "execute_result"
    }
   ],
   "source": [
    "# in python it is possible to mix the types\n",
    "person = [\"Katrin\", 39.1, 1, True]\n",
    "person"
   ]
  },
  {
   "cell_type": "code",
   "execution_count": 38,
   "metadata": {},
   "outputs": [
    {
     "data": {
      "text/plain": [
       "['Katrin', 39.1, 1, True, ['badminton', 'yoga', 'math', 'programming']]"
      ]
     },
     "execution_count": 38,
     "metadata": {},
     "output_type": "execute_result"
    }
   ],
   "source": [
    "# we can append one list into another list\n",
    "person.append(interests)"
   ]
  },
  {
   "cell_type": "code",
   "execution_count": 40,
   "metadata": {},
   "outputs": [
    {
     "data": {
      "text/plain": [
       "['Katrin', 39.1, 1, True, ['badminton', 'yoga', 'math', 'programming']]"
      ]
     },
     "execution_count": 40,
     "metadata": {},
     "output_type": "execute_result"
    }
   ],
   "source": [
    "# lists are mutable, it is possible to change them\n",
    "person"
   ]
  },
  {
   "cell_type": "code",
   "execution_count": 41,
   "metadata": {},
   "outputs": [],
   "source": [
    "person.append(100)"
   ]
  },
  {
   "cell_type": "code",
   "execution_count": 43,
   "metadata": {},
   "outputs": [
    {
     "data": {
      "text/plain": [
       "['Katrin', 39.1, 1, True, ['badminton', 'yoga', 'math', 'programming'], 100]"
      ]
     },
     "execution_count": 43,
     "metadata": {},
     "output_type": "execute_result"
    }
   ],
   "source": [
    "person\n",
    "# it is possible to add other objects into a list, you can have a list in a list"
   ]
  },
  {
   "cell_type": "markdown",
   "metadata": {},
   "source": [
    "**Accessing items/elements in a list**"
   ]
  },
  {
   "cell_type": "code",
   "execution_count": 46,
   "metadata": {},
   "outputs": [
    {
     "data": {
      "text/plain": [
       "['Katrin', 39.1, 1, True, ['badminton', 'yoga', 'math', 'programming'], 100]"
      ]
     },
     "execution_count": 46,
     "metadata": {},
     "output_type": "execute_result"
    }
   ],
   "source": [
    "person"
   ]
  },
  {
   "cell_type": "code",
   "execution_count": 48,
   "metadata": {},
   "outputs": [
    {
     "data": {
      "text/plain": [
       "('Katrin', 39.1, 100, ['badminton', 'yoga', 'math', 'programming'])"
      ]
     },
     "execution_count": 48,
     "metadata": {},
     "output_type": "execute_result"
    }
   ],
   "source": [
    "person[0], person[1], person[-1], person[-2]"
   ]
  },
  {
   "cell_type": "code",
   "execution_count": 50,
   "metadata": {},
   "outputs": [
    {
     "data": {
      "text/plain": [
       "'yoga'"
      ]
     },
     "execution_count": 50,
     "metadata": {},
     "output_type": "execute_result"
    }
   ],
   "source": [
    "person[-2][1]"
   ]
  },
  {
   "cell_type": "markdown",
   "metadata": {},
   "source": [
    "**Slicing list**"
   ]
  },
  {
   "cell_type": "code",
   "execution_count": 51,
   "metadata": {},
   "outputs": [
    {
     "data": {
      "text/plain": [
       "['Katrin', 39.1, 1, True, ['badminton', 'yoga', 'math', 'programming'], 100]"
      ]
     },
     "execution_count": 51,
     "metadata": {},
     "output_type": "execute_result"
    }
   ],
   "source": [
    "# slicing does not exist in many languages, but luckily in python it does\n",
    "person"
   ]
  },
  {
   "cell_type": "code",
   "execution_count": 53,
   "metadata": {},
   "outputs": [
    {
     "data": {
      "text/plain": [
       "['Katrin', 39.1]"
      ]
     },
     "execution_count": 53,
     "metadata": {},
     "output_type": "execute_result"
    }
   ],
   "source": [
    "person[:2] # I get all items from 0 to 2-not inclusive"
   ]
  },
  {
   "cell_type": "code",
   "execution_count": 55,
   "metadata": {},
   "outputs": [
    {
     "data": {
      "text/plain": [
       "['Katrin', 1, ['badminton', 'yoga', 'math', 'programming']]"
      ]
     },
     "execution_count": 55,
     "metadata": {},
     "output_type": "execute_result"
    }
   ],
   "source": [
    "person[0::2] # here I get every second element"
   ]
  },
  {
   "cell_type": "code",
   "execution_count": 56,
   "metadata": {},
   "outputs": [
    {
     "data": {
      "text/plain": [
       "(['badminton', 'yoga', 'math', 'programming'],\n",
       " ['programming', 'math', 'yoga', 'badminton'])"
      ]
     },
     "execution_count": 56,
     "metadata": {},
     "output_type": "execute_result"
    }
   ],
   "source": [
    "interests, interests[::-1]"
   ]
  },
  {
   "cell_type": "markdown",
   "metadata": {},
   "source": [
    "**iterate over a list (loop over)**"
   ]
  },
  {
   "cell_type": "code",
   "execution_count": 57,
   "metadata": {},
   "outputs": [
    {
     "data": {
      "text/plain": [
       "[0, 1, 2, 3, 4, 5, 6, 7, 8, 9]"
      ]
     },
     "execution_count": 57,
     "metadata": {},
     "output_type": "execute_result"
    }
   ],
   "source": [
    "# this is how you make a list if you come from another programming language\n",
    "numbers = []\n",
    "for i in range(10):\n",
    "    numbers.append(i)\n",
    "\n",
    "numbers"
   ]
  },
  {
   "cell_type": "code",
   "execution_count": 58,
   "metadata": {},
   "outputs": [
    {
     "data": {
      "text/plain": [
       "[0, 1, 2, 3, 4, 5, 6, 7, 8, 9]"
      ]
     },
     "execution_count": 58,
     "metadata": {},
     "output_type": "execute_result"
    }
   ],
   "source": [
    "# a faster, more pythonic way is a list comprehension\n",
    "numbers = [i for i in range(10)]\n",
    "numbers"
   ]
  },
  {
   "cell_type": "code",
   "execution_count": 59,
   "metadata": {},
   "outputs": [
    {
     "data": {
      "text/plain": [
       "[0, 1, 4, 9, 16, 25, 36, 49, 64, 81]"
      ]
     },
     "execution_count": 59,
     "metadata": {},
     "output_type": "execute_result"
    }
   ],
   "source": [
    "squares = [i**2 for i in numbers]\n",
    "squares"
   ]
  },
  {
   "cell_type": "code",
   "execution_count": 60,
   "metadata": {},
   "outputs": [
    {
     "name": "stdout",
     "output_type": "stream",
     "text": [
      "0\n",
      "1\n",
      "4\n",
      "9\n",
      "16\n",
      "25\n",
      "36\n",
      "49\n",
      "64\n",
      "81\n"
     ]
    }
   ],
   "source": [
    "for square in squares:\n",
    "    print(square)"
   ]
  },
  {
   "cell_type": "code",
   "execution_count": 62,
   "metadata": {},
   "outputs": [],
   "source": [
    "# tuple - immutable collection\n",
    "# set - unique collection of values"
   ]
  },
  {
   "cell_type": "markdown",
   "metadata": {},
   "source": [
    "## Dictionary\n",
    "- key: value (pair)"
   ]
  },
  {
   "cell_type": "code",
   "execution_count": 63,
   "metadata": {},
   "outputs": [
    {
     "data": {
      "text/plain": [
       "{'name': 'Katrin', 'age': 39.1}"
      ]
     },
     "execution_count": 63,
     "metadata": {},
     "output_type": "execute_result"
    }
   ],
   "source": [
    "# one way is to use a dict() function\n",
    "person_dict_syntax = dict(name = \"Katrin\", age = 39.1)\n",
    "person_dict_syntax"
   ]
  },
  {
   "cell_type": "code",
   "execution_count": 66,
   "metadata": {},
   "outputs": [
    {
     "data": {
      "text/plain": [
       "(dict_keys(['name', 'age']), dict_keys(['name', 'age']))"
      ]
     },
     "execution_count": 66,
     "metadata": {},
     "output_type": "execute_result"
    }
   ],
   "source": [
    "# another way is to use the brackett syntax\n",
    "person_dict_bracket_syntax = {'name': 'Katrin', 'age': 39.1}\n",
    "person_dict_bracket_syntax.keys(), person_dict_syntax.keys()"
   ]
  },
  {
   "cell_type": "code",
   "execution_count": 68,
   "metadata": {},
   "outputs": [
    {
     "data": {
      "text/plain": [
       "('Katrin', 39.1)"
      ]
     },
     "execution_count": 68,
     "metadata": {},
     "output_type": "execute_result"
    }
   ],
   "source": [
    "person_dict_syntax[\"name\"], person_dict_syntax[\"age\"]"
   ]
  },
  {
   "cell_type": "code",
   "execution_count": 72,
   "metadata": {},
   "outputs": [
    {
     "data": {
      "text/plain": [
       "('0x17a731fb180', '0x17a7315cd40')"
      ]
     },
     "execution_count": 72,
     "metadata": {},
     "output_type": "execute_result"
    }
   ],
   "source": [
    "# both dictionaries have different memory adress, so they are not the same object. But they have same content\n",
    "hex(id(person_dict_bracket_syntax)), hex(id(person_dict_syntax))"
   ]
  },
  {
   "cell_type": "code",
   "execution_count": 73,
   "metadata": {},
   "outputs": [
    {
     "name": "stdout",
     "output_type": "stream",
     "text": [
      "name\n",
      "age\n"
     ]
    }
   ],
   "source": [
    "# we can iterate throguh a dictionary\n",
    "for key in person_dict_syntax:\n",
    "    print(key)"
   ]
  },
  {
   "cell_type": "code",
   "execution_count": 74,
   "metadata": {},
   "outputs": [
    {
     "name": "stdout",
     "output_type": "stream",
     "text": [
      "name Katrin\n",
      "age 39.1\n"
     ]
    }
   ],
   "source": [
    "# we can iterate throguh a dictionary, get also a value\n",
    "for key in person_dict_syntax:\n",
    "    print(key, person_dict_syntax[key])"
   ]
  },
  {
   "cell_type": "code",
   "execution_count": 76,
   "metadata": {},
   "outputs": [
    {
     "name": "stdout",
     "output_type": "stream",
     "text": [
      "name Katrin\n",
      "age 39.1\n"
     ]
    }
   ],
   "source": [
    "# we can get the keys and values in a more pythonic way\n",
    "for key, value in person_dict_syntax.items(): # items() with give you a key and value as a tuple\n",
    "    print(key, value)"
   ]
  },
  {
   "cell_type": "markdown",
   "metadata": {},
   "source": [
    "**dictionary comprehension**"
   ]
  },
  {
   "cell_type": "code",
   "execution_count": 81,
   "metadata": {},
   "outputs": [
    {
     "data": {
      "text/plain": [
       "{'supervised learning': 'learns from labeled data.',\n",
       " 'unsupervised learning': 'finds patterns in unlabeled data.',\n",
       " 'feature engineering': 'enhances input features for models.',\n",
       " 'overfitting': 'model fits training data too closely.',\n",
       " 'cross-validation': 'evaluates model performance robustly.'}"
      ]
     },
     "execution_count": 81,
     "metadata": {},
     "output_type": "execute_result"
    }
   ],
   "source": [
    "ml_terms = [\n",
    "    \"Supervised Learning\",\n",
    "    \"Unsupervised Learning\",\n",
    "    \"Feature Engineering\",\n",
    "    \"Overfitting\",\n",
    "    \"Cross-Validation\"\n",
    "]\n",
    "\n",
    "\n",
    "ml_explanations = [\n",
    "    \"Learns from labeled data.\",\n",
    "    \"Finds patterns in unlabeled data.\",\n",
    "    \"Enhances input features for models.\",\n",
    "    \"Model fits training data too closely.\",\n",
    "    \"Evaluates model performance robustly.\"\n",
    "]\n",
    "# zip mean that 1st element from first list goes together with first element from second list an so on\n",
    "{term.lower(): explanation.lower() for term, explanation in zip(ml_terms, ml_explanations)} "
   ]
  },
  {
   "cell_type": "markdown",
   "metadata": {},
   "source": [
    "## Strings\n",
    "- important to understand how to manipulate strings as we will clean a lot of data in our work"
   ]
  },
  {
   "cell_type": "code",
   "execution_count": 83,
   "metadata": {},
   "outputs": [
    {
     "data": {
      "text/plain": [
       "'sUperVised   Learning  '"
      ]
     },
     "execution_count": 83,
     "metadata": {},
     "output_type": "execute_result"
    }
   ],
   "source": [
    "# oops weird formatting \n",
    "ml_term = \"sUperVised   Learning  \"\n",
    "ml_term"
   ]
  },
  {
   "cell_type": "code",
   "execution_count": 85,
   "metadata": {},
   "outputs": [
    {
     "data": {
      "text/plain": [
       "23"
      ]
     },
     "execution_count": 85,
     "metadata": {},
     "output_type": "execute_result"
    }
   ],
   "source": [
    "len(ml_term)"
   ]
  },
  {
   "cell_type": "code",
   "execution_count": 89,
   "metadata": {},
   "outputs": [
    {
     "data": {
      "text/plain": [
       "21"
      ]
     },
     "execution_count": 89,
     "metadata": {},
     "output_type": "execute_result"
    }
   ],
   "source": [
    "# clean the extra spaces, we remove leading and trailing spaces with strip()\n",
    "ml_term.strip()\n",
    "len(ml_term.strip())"
   ]
  },
  {
   "cell_type": "code",
   "execution_count": 91,
   "metadata": {},
   "outputs": [
    {
     "data": {
      "text/plain": [
       "['sUperVised', 'Learning']"
      ]
     },
     "execution_count": 91,
     "metadata": {},
     "output_type": "execute_result"
    }
   ],
   "source": [
    "ml_term.split()"
   ]
  },
  {
   "cell_type": "code",
   "execution_count": 96,
   "metadata": {},
   "outputs": [
    {
     "data": {
      "text/plain": [
       "'supervised learning'"
      ]
     },
     "execution_count": 96,
     "metadata": {},
     "output_type": "execute_result"
    }
   ],
   "source": [
    "# join() joins each element of the list with one space in between\n",
    "ml_term_cleaned = \" \".join(ml_term.split()).lower()\n",
    "ml_term_cleaned"
   ]
  },
  {
   "cell_type": "code",
   "execution_count": 99,
   "metadata": {},
   "outputs": [
    {
     "data": {
      "text/plain": [
       "('s', 'g', 'rvi')"
      ]
     },
     "execution_count": 99,
     "metadata": {},
     "output_type": "execute_result"
    }
   ],
   "source": [
    "# note: strings are lists of characters, so we can aplly list functions to them\n",
    "ml_term_cleaned[0], ml_term_cleaned[-1], ml_term_cleaned[4:7]"
   ]
  },
  {
   "cell_type": "code",
   "execution_count": 101,
   "metadata": {},
   "outputs": [
    {
     "data": {
      "text/plain": [
       "'hello world'"
      ]
     },
     "execution_count": 101,
     "metadata": {},
     "output_type": "execute_result"
    }
   ],
   "source": [
    "# concatenation = you can add strings together\n",
    "\"hello\" + \" world\""
   ]
  },
  {
   "cell_type": "code",
   "execution_count": 103,
   "metadata": {},
   "outputs": [
    {
     "data": {
      "text/plain": [
       "(10, '55')"
      ]
     },
     "execution_count": 103,
     "metadata": {},
     "output_type": "execute_result"
    }
   ],
   "source": [
    "# + operator is overloaded, it will act differently depending on the types\n",
    "5+5, \"5\"+\"5\" "
   ]
  },
  {
   "cell_type": "code",
   "execution_count": 104,
   "metadata": {},
   "outputs": [
    {
     "data": {
      "text/plain": [
       "'55555'"
      ]
     },
     "execution_count": 104,
     "metadata": {},
     "output_type": "execute_result"
    }
   ],
   "source": [
    "\"5\"*5"
   ]
  },
  {
   "cell_type": "markdown",
   "metadata": {},
   "source": [
    "## if-statement"
   ]
  },
  {
   "cell_type": "code",
   "execution_count": 106,
   "metadata": {},
   "outputs": [
    {
     "data": {
      "text/plain": [
       "1"
      ]
     },
     "execution_count": 106,
     "metadata": {},
     "output_type": "execute_result"
    }
   ],
   "source": [
    "predicted_probability = 0.8\n",
    "\n",
    "if predicted_probability > .5:\n",
    "    y_pred = 1\n",
    "else:\n",
    "    y_pred = 0\n",
    "\n",
    "y_pred"
   ]
  },
  {
   "cell_type": "code",
   "execution_count": 108,
   "metadata": {},
   "outputs": [
    {
     "data": {
      "text/plain": [
       "'positive'"
      ]
     },
     "execution_count": 108,
     "metadata": {},
     "output_type": "execute_result"
    }
   ],
   "source": [
    "# one line if-else statement\n",
    "predicion = \"positive\" if y_pred else \"negative\" # it is enough if y_pred is truthy, meaning different than 0\n",
    "predicion"
   ]
  },
  {
   "cell_type": "code",
   "execution_count": 109,
   "metadata": {},
   "outputs": [
    {
     "data": {
      "text/plain": [
       "'positive'"
      ]
     },
     "execution_count": 109,
     "metadata": {},
     "output_type": "execute_result"
    }
   ],
   "source": [
    "# one line if-else statement\n",
    "y_pred = 5\n",
    "predicion = \"positive\" if y_pred else \"negative\" # it is enough if y_pred is truthy, meaning different than 0\n",
    "predicion"
   ]
  },
  {
   "cell_type": "code",
   "execution_count": 110,
   "metadata": {},
   "outputs": [
    {
     "data": {
      "text/plain": [
       "'negative'"
      ]
     },
     "execution_count": 110,
     "metadata": {},
     "output_type": "execute_result"
    }
   ],
   "source": [
    "# one line if-else statement\n",
    "y_pred = 0 # this will change the outcome to negative\n",
    "\n",
    "predicion = \"positive\" if y_pred else \"negative\" # it is enough if y_pred is truthy, meaning different than 0\n",
    "\n",
    "predicion"
   ]
  },
  {
   "cell_type": "code",
   "execution_count": 111,
   "metadata": {},
   "outputs": [
    {
     "data": {
      "text/plain": [
       "(0.6, 'Bad')"
      ]
     },
     "execution_count": 111,
     "metadata": {},
     "output_type": "execute_result"
    }
   ],
   "source": [
    "# if-elif-else\n",
    "\n",
    "accuracy = .6\n",
    "\n",
    "if accuracy > 0.9:\n",
    "    model_performance = \"Good\"\n",
    "elif accuracy > 0.7:\n",
    "    model_performance = \"Moderate\"\n",
    "else:\n",
    "    model_performance = \"Bad\"\n",
    "\n",
    "accuracy, model_performance"
   ]
  },
  {
   "cell_type": "markdown",
   "metadata": {},
   "source": [
    "## while statement\n",
    "- iterative control structure\n",
    "- iteratively repeat execution as long as specified condition remains True\n",
    "- can be seen as an \"if-loop\"\n",
    "\n",
    "#### Example - oil leakage\n",
    "There is an oil leakage causing the bird population in an island to 1/2 in each year. From start there were 80000 birds, how many years does it take for it to have 1/10 remaining?"
   ]
  },
  {
   "cell_type": "code",
   "execution_count": 115,
   "metadata": {},
   "outputs": [
    {
     "name": "stdout",
     "output_type": "stream",
     "text": [
      "Year 0 there were 80000\n",
      "Year 1 there were 40000\n",
      "Year 2 there were 20000\n",
      "Year 3 there were 10000\n",
      "It takes 4 years for the birds to have 1/10 birds remaining\n"
     ]
    }
   ],
   "source": [
    "birds = 80000\n",
    "year = 0\n",
    "\n",
    "while birds > 8000:\n",
    "    print(f\"Year {year} there were {birds:.0f}\")\n",
    "    birds *=0.5\n",
    "    year +=1\n",
    "\n",
    "print(f\"It takes {year} years for the birds to have 1/10 birds remaining\")\n"
   ]
  },
  {
   "cell_type": "markdown",
   "metadata": {},
   "source": [
    "## for statement\n",
    "- iterative control structure\n",
    "- iterates over a sequence (list, tuple, string, range, ...)\n",
    "- typically used when you know number of iterations beforehand"
   ]
  },
  {
   "cell_type": "code",
   "execution_count": 116,
   "metadata": {},
   "outputs": [
    {
     "name": "stdout",
     "output_type": "stream",
     "text": [
      "K-Means\n",
      "PCA\n",
      "GMM\n"
     ]
    }
   ],
   "source": [
    "unsupervised_abbreviations = [\n",
    "    \"K-Means\",\n",
    "    \"PCA\",\n",
    "    \"GMM\",\n",
    "]\n",
    "\n",
    "unsupervised_algorithms = [\n",
    "    \"K-Means Clustering\",\n",
    "    \"Principal Component Analysis\",\n",
    "    \"Gaussian Mixture Model\",\n",
    "]\n",
    "\n",
    "for abbreviation in unsupervised_abbreviations:\n",
    "    print(abbreviation)"
   ]
  },
  {
   "cell_type": "code",
   "execution_count": 118,
   "metadata": {},
   "outputs": [
    {
     "name": "stdout",
     "output_type": "stream",
     "text": [
      "K-Means :  K-Means Clustering\n",
      "PCA :  Principal Component Analysis\n",
      "GMM :  Gaussian Mixture Model\n"
     ]
    }
   ],
   "source": [
    "for abbreviation, algorithm in zip(unsupervised_abbreviations, unsupervised_algorithms):\n",
    "    print(abbreviation,\": \", algorithm)"
   ]
  },
  {
   "cell_type": "code",
   "execution_count": 126,
   "metadata": {},
   "outputs": [
    {
     "name": "stdout",
     "output_type": "stream",
     "text": [
      "abbreviation 0: K-Means\n",
      "abbreviation 1: PCA\n",
      "abbreviation 2: GMM\n",
      "\n",
      "abbreviation 0: K-Means\n",
      "abbreviation 1: PCA\n",
      "abbreviation 2: GMM\n",
      "\n",
      "abbreviation 5: K-Means\n",
      "abbreviation 6: PCA\n",
      "abbreviation 7: GMM\n"
     ]
    }
   ],
   "source": [
    "# don't do this, this is not pythonic\n",
    "for i in range(len(unsupervised_abbreviations)):\n",
    "    print(f\"abbreviation {i}: {unsupervised_abbreviations[i]}\")\n",
    "\n",
    "print()\n",
    "\n",
    "# pythonic - idiomatic way of writing python\n",
    "for i, abbreviation in enumerate(unsupervised_abbreviations):\n",
    "    print(f\"abbreviation {i}: {abbreviation}\")\n",
    "\n",
    "print()\n",
    "\n",
    "# pythonic - idiomatic way of writing python\n",
    "for i, abbreviation in enumerate(unsupervised_abbreviations,5):\n",
    "    print(f\"abbreviation {i}: {abbreviation}\")"
   ]
  },
  {
   "cell_type": "code",
   "execution_count": null,
   "metadata": {},
   "outputs": [],
   "source": []
  }
 ],
 "metadata": {
  "kernelspec": {
   "display_name": ".venv",
   "language": "python",
   "name": "python3"
  },
  "language_info": {
   "codemirror_mode": {
    "name": "ipython",
    "version": 3
   },
   "file_extension": ".py",
   "mimetype": "text/x-python",
   "name": "python",
   "nbconvert_exporter": "python",
   "pygments_lexer": "ipython3",
   "version": "3.13.1"
  }
 },
 "nbformat": 4,
 "nbformat_minor": 2
}
