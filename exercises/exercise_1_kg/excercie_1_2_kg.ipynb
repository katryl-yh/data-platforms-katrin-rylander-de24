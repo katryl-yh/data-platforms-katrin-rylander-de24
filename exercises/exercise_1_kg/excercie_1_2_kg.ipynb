{
 "cells": [
  {
   "cell_type": "markdown",
   "metadata": {},
   "source": [
    "## Exercise 1 - pandas repetition"
   ]
  },
  {
   "cell_type": "markdown",
   "metadata": {},
   "source": [
    "### 1. Working with grades data\n",
    "##### The dataset is called betyg_o_prov_riksnivå.xlsx\n",
    "\n",
    "##### a) Draw a line chart for proportion of students that are missing approved grade for one or more subjects for the years 18-23."
   ]
  },
  {
   "cell_type": "code",
   "execution_count": null,
   "metadata": {},
   "outputs": [],
   "source": []
  },
  {
   "cell_type": "markdown",
   "metadata": {},
   "source": [
    "#####  b) Examine other variable(s) of your choice and check how they affect the students grade. For example you could choose \"föräldrarnas utbildningsbakgrund\", parents grades."
   ]
  },
  {
   "cell_type": "markdown",
   "metadata": {},
   "source": []
  }
 ],
 "metadata": {
  "language_info": {
   "name": "python"
  }
 },
 "nbformat": 4,
 "nbformat_minor": 2
}
