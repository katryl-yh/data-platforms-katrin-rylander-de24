{
 "cells": [
  {
   "cell_type": "markdown",
   "metadata": {},
   "source": [
    "# Solving exercises"
   ]
  },
  {
   "cell_type": "markdown",
   "metadata": {},
   "source": [
    "#### 0. User input for ETL Parameters"
   ]
  },
  {
   "cell_type": "code",
   "execution_count": 1,
   "metadata": {},
   "outputs": [
    {
     "name": "stdout",
     "output_type": "stream",
     "text": [
      "source: /c/Users/Katrin/Documents/github/data-platforms-katrin-rylander-de24/exercises/exercise_0_kg/input_data.csv\n",
      "destination_path: # /c/Users/Katrin/Documents/github/data-platforms-katrin-rylander-de24/exercises/exercise_0_kg/output_data.csv\n"
     ]
    }
   ],
   "source": [
    "source_path = input(\"Enter the source path: \")\n",
    "destination_path = input(\"Enter your destination path: \")\n",
    "\n",
    "# /c/Users/Katrin/Documents/github/data-platforms-katrin-rylander-de24/exercises/exercise_0_kg/input_data.csv\n",
    "# /c/Users/Katrin/Documents/github/data-platforms-katrin-rylander-de24/exercises/exercise_0_kg/output_data.csv\n",
    "\n",
    "print(f\"source: {source_path}\")\n",
    "print(f\"destination_path: {destination_path}\")"
   ]
  },
  {
   "cell_type": "markdown",
   "metadata": {},
   "source": [
    "#### 1. Schema validation\n",
    "\n",
    "a) Create a dictionary that look like this\n",
    "\n",
    "| Key       | Value |\n",
    "| --------- | ----- |\n",
    "| id        | 101   |\n",
    "| name      | Erika |\n",
    "| is_active | True  |\n",
    "| age       | 45    |"
   ]
  },
  {
   "cell_type": "code",
   "execution_count": 8,
   "metadata": {},
   "outputs": [
    {
     "name": "stdout",
     "output_type": "stream",
     "text": [
      "{'id': 101, 'name': 'Erika', 'is_active': True, 'age': 45}\n"
     ]
    },
    {
     "data": {
      "text/plain": [
       "dict"
      ]
     },
     "execution_count": 8,
     "metadata": {},
     "output_type": "execute_result"
    }
   ],
   "source": [
    "record = dict(id=101, name=\"Erika\", is_active=True, age=45)\n",
    "print(record)\n",
    "type(record)"
   ]
  },
  {
   "cell_type": "markdown",
   "metadata": {},
   "source": [
    "#### b) Validate that:\n",
    "- id is integer, \n",
    "- name is string, \n",
    "- is_active is boolean \n",
    "- and age is integer.\n",
    "\n",
    "- It should return true if valid and false if not valid."
   ]
  },
  {
   "cell_type": "code",
   "execution_count": 10,
   "metadata": {},
   "outputs": [
    {
     "data": {
      "text/plain": [
       "dict_keys(['id', 'name', 'is_active', 'age'])"
      ]
     },
     "execution_count": 10,
     "metadata": {},
     "output_type": "execute_result"
    }
   ],
   "source": [
    "schema = { \"id\": int, \"name\": str, \"is_active\": bool, \"age\":int}\n",
    "schema.keys()"
   ]
  },
  {
   "cell_type": "code",
   "execution_count": 13,
   "metadata": {},
   "outputs": [
    {
     "data": {
      "text/plain": [
       "(101, int, True, bool)"
      ]
     },
     "execution_count": 13,
     "metadata": {},
     "output_type": "execute_result"
    }
   ],
   "source": [
    "record[\"id\"], schema[\"id\"], record[\"is_active\"], schema[\"is_active\"]"
   ]
  },
  {
   "cell_type": "code",
   "execution_count": 15,
   "metadata": {},
   "outputs": [
    {
     "data": {
      "text/plain": [
       "False"
      ]
     },
     "execution_count": 15,
     "metadata": {},
     "output_type": "execute_result"
    }
   ],
   "source": [
    "isinstance(5, int)\n",
    "isinstance(5, str)"
   ]
  },
  {
   "cell_type": "code",
   "execution_count": 23,
   "metadata": {},
   "outputs": [
    {
     "data": {
      "text/plain": [
       "True"
      ]
     },
     "execution_count": 23,
     "metadata": {},
     "output_type": "execute_result"
    }
   ],
   "source": [
    "validation_list = []\n",
    "for key, data_type in schema.items():\n",
    "    #print(record[key], data_type)\n",
    "    validation_list.append(isinstance(record[key], data_type))\n",
    "\n",
    "all(validation_list) # and operator on all values\n",
    "any(validation_list) # or operatior on all values"
   ]
  },
  {
   "cell_type": "code",
   "execution_count": 26,
   "metadata": {},
   "outputs": [
    {
     "name": "stdout",
     "output_type": "stream",
     "text": [
      "False\n",
      "True\n"
     ]
    }
   ],
   "source": [
    "print(all([True, True, False]))\n",
    "print(any([True, True, False]))"
   ]
  },
  {
   "cell_type": "code",
   "execution_count": 27,
   "metadata": {},
   "outputs": [
    {
     "data": {
      "text/plain": [
       "[True, True, True, True]"
      ]
     },
     "execution_count": 27,
     "metadata": {},
     "output_type": "execute_result"
    }
   ],
   "source": [
    "# we are going to do it as list comprehension\n",
    "[isinstance(record[key],data_type) for key, data_type in schema.items()]"
   ]
  },
  {
   "cell_type": "markdown",
   "metadata": {},
   "source": [
    "### D2. Data quality check\n",
    "#### Create a function that checks a list that it contains exactly ten elements, and none of them contains None. If they contain None, print out an error message that says that it is invalid and print out what a valid format should be."
   ]
  },
  {
   "cell_type": "code",
   "execution_count": 34,
   "metadata": {},
   "outputs": [
    {
     "name": "stdout",
     "output_type": "stream",
     "text": [
      "[0, 1, 2, 3, 4, 5, 6, 7, 8, 9]\n",
      "[0, 1, 2, 3, 4, 5, 6, 7, 8, None]\n"
     ]
    }
   ],
   "source": [
    "example_list = list(range(10))\n",
    "example_list_none = list(range(9)) + [None]\n",
    "example_list_large = list(range(2910))\n",
    "\n",
    "print(example_list)\n",
    "print(example_list_none)\n",
    "#print(example_list_large)"
   ]
  },
  {
   "cell_type": "code",
   "execution_count": 35,
   "metadata": {},
   "outputs": [
    {
     "data": {
      "text/plain": [
       "True"
      ]
     },
     "execution_count": 35,
     "metadata": {},
     "output_type": "execute_result"
    }
   ],
   "source": [
    "len(example_list) == 10"
   ]
  },
  {
   "cell_type": "code",
   "execution_count": 38,
   "metadata": {},
   "outputs": [
    {
     "data": {
      "text/plain": [
       "(False, True)"
      ]
     },
     "execution_count": 38,
     "metadata": {},
     "output_type": "execute_result"
    }
   ],
   "source": [
    "None in example_list, None in example_list_none"
   ]
  },
  {
   "cell_type": "code",
   "execution_count": 42,
   "metadata": {},
   "outputs": [
    {
     "name": "stdout",
     "output_type": "stream",
     "text": [
      "check passed!\n",
      "check passed!\n"
     ]
    }
   ],
   "source": [
    "if len(example_list) == 10 and None not in example_list:\n",
    "    print(\"check passed!\")\n",
    "\n",
    "if len(example_list)== 10 and None not in example_list_none:\n",
    "    print(\"check passed!\")\n",
    "\n",
    "if len(example_list) == 10 and None not in example_list_large:\n",
    "    print(\"check passed!\")"
   ]
  },
  {
   "cell_type": "code",
   "execution_count": 53,
   "metadata": {},
   "outputs": [
    {
     "name": "stdout",
     "output_type": "stream",
     "text": [
      "Your list is 10 element long and contains no None\n"
     ]
    }
   ],
   "source": [
    "# to avoid copying code, we create a function instead\n",
    "\n",
    "def quality_check(list_):\n",
    "    if len(list_) != 10 or None in list_:\n",
    "        raise ValueError(f\"\"\"\n",
    "                         Your list must have 10 elements and not contain None.\n",
    "                         Lenght of your list was {len(list_)}.\n",
    "                         None is list: {None in list_}\n",
    "                         \"\"\")\n",
    "    print(\"Your list is 10 element long and contains no None\")\n",
    "\n",
    "quality_check(example_list)"
   ]
  },
  {
   "cell_type": "code",
   "execution_count": 54,
   "metadata": {},
   "outputs": [
    {
     "name": "stdout",
     "output_type": "stream",
     "text": [
      "\n",
      "                         Your list must have 10 elements and not contain None.\n",
      "                         Lenght of your list was 10.\n",
      "                         None is list: True\n",
      "                         \n"
     ]
    }
   ],
   "source": [
    "try:\n",
    "    quality_check(example_list_none)\n",
    "except ValueError as err:\n",
    "    print(err)"
   ]
  },
  {
   "cell_type": "code",
   "execution_count": 52,
   "metadata": {},
   "outputs": [
    {
     "name": "stdout",
     "output_type": "stream",
     "text": [
      "\n",
      "                         Your list must have 10 elements and not contain None.\n",
      "                         Lenght of your list was 2910.\n",
      "                         None is list: False\n",
      "                         \n"
     ]
    }
   ],
   "source": [
    "try:\n",
    "    quality_check(example_list_large)\n",
    "except ValueError as err:\n",
    "    print(err)"
   ]
  },
  {
   "cell_type": "code",
   "execution_count": null,
   "metadata": {},
   "outputs": [],
   "source": []
  }
 ],
 "metadata": {
  "kernelspec": {
   "display_name": ".venv",
   "language": "python",
   "name": "python3"
  },
  "language_info": {
   "codemirror_mode": {
    "name": "ipython",
    "version": 3
   },
   "file_extension": ".py",
   "mimetype": "text/x-python",
   "name": "python",
   "nbconvert_exporter": "python",
   "pygments_lexer": "ipython3",
   "version": "3.13.1"
  }
 },
 "nbformat": 4,
 "nbformat_minor": 2
}
