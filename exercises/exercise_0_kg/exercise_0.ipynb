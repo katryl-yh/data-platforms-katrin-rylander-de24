{
 "cells": [
  {
   "cell_type": "markdown",
   "metadata": {},
   "source": [
    "#### 0. User input for ETL Parameters\n",
    "\n",
    "Ask the user for 2 inputs:\n",
    "\n",
    "- source path: /Users/aigineer/Documents/data_platform_course/data/file.csv\n",
    "- destination file path: /Users/aigineer/Documents/data_platform_course/cleaned_data/file.csv\n"
   ]
  },
  {
   "cell_type": "code",
   "execution_count": 1,
   "metadata": {},
   "outputs": [],
   "source": [
    "source_path = input(\"Please write the source path\")\n",
    "destination_path = input(\"Please write the destination path\")\n",
    "\n",
    "print(f\"source: {source_path}\")\n",
    "print(f\"destination: {destination_path}\")\n",
    "\n",
    "# to do:\n",
    "# 1. try and exept, check if the path is correct\n",
    "# 2. make sure the path is in the right format!"
   ]
  },
  {
   "cell_type": "markdown",
   "metadata": {},
   "source": [
    "#### 1. Schema validation\n"
   ]
  },
  {
   "cell_type": "code",
   "execution_count": 4,
   "metadata": {},
   "outputs": [
    {
     "data": {
      "text/plain": [
       "dict"
      ]
     },
     "execution_count": 4,
     "metadata": {},
     "output_type": "execute_result"
    }
   ],
   "source": [
    "# a) Create a dictionary that look like this\n",
    "\n",
    "a_dict = {\"id\": 101, \"name\": \"Erika\", \"is_active\": True, \"age\": 45}\n",
    "\n",
    "type(a_dict)"
   ]
  },
  {
   "cell_type": "code",
   "execution_count": 9,
   "metadata": {},
   "outputs": [
    {
     "name": "stdout",
     "output_type": "stream",
     "text": [
      "True\n",
      "True\n",
      "True\n",
      "True\n"
     ]
    }
   ],
   "source": [
    "# b) Validate that the:\n",
    "# #  - id is integer, \n",
    "# #  - name is string, \n",
    "# #  - is_active is boolean \n",
    "# #  - and age is integer. \n",
    "# It should return true if valid and false if not valid.\n",
    "\n",
    "print(type(a_dict[\"id\"]) == int)\n",
    "print(type(a_dict[\"name\"]) == str)\n",
    "print(type(a_dict[\"is_active\"]) == bool)\n",
    "print(type(a_dict[\"age\"]) == int)\n"
   ]
  },
  {
   "cell_type": "code",
   "execution_count": 13,
   "metadata": {},
   "outputs": [
    {
     "data": {
      "text/plain": [
       "list"
      ]
     },
     "execution_count": 13,
     "metadata": {},
     "output_type": "execute_result"
    }
   ],
   "source": [
    "# c) The dictionary created can be seen as one row, \n",
    "# now lets create more records and store each record (dictionary) in a list.\n",
    "\n",
    "c_list = [{\"id\": 102, \"name\": \"Marcus\", \"is_active\": True, \"age\": 34}, \n",
    "          {\"id\": 103, \"name\": \"David\", \"is_active\": False, \"age\": 29},\n",
    "          {\"id\": 104, \"name\": \"Anna\", \"is_active\": True, \"age\": 41.5},\n",
    "          {\"id\": 106, \"name\": \"Ingrid\", \"is_active\": \"NOPE\", \"age\": 8} ]\n",
    "\n",
    "type(c_list)\n",
    "\n",
    "# NOTE:  this list of dictionary is also a JSON array of objects, HOW TO CHECK IT??"
   ]
  },
  {
   "cell_type": "code",
   "execution_count": 20,
   "metadata": {},
   "outputs": [
    {
     "name": "stdout",
     "output_type": "stream",
     "text": [
      "id: 102 is OK\n",
      "id: 103 is OK\n",
      "id: 104 needs correcting\n",
      "id: 106 needs correcting\n"
     ]
    }
   ],
   "source": [
    "# d) Do schema validation on the JSON array in c)\n",
    "\n",
    "for list in c_list:\n",
    "    if (type(list[\"id\"]) == int) and (type(list[\"name\"]) == str) and (type(list[\"is_active\"]) == bool) and(type(list[\"age\"]) == int):\n",
    "        print(f\"id: {list[\"id\"]} is OK\")\n",
    "    else:\n",
    "        print(f\"id: {list[\"id\"]} needs correcting\" )\n",
    "\n",
    "# TO DO: add correcting on which element"
   ]
  },
  {
   "cell_type": "code",
   "execution_count": 27,
   "metadata": {},
   "outputs": [
    {
     "name": "stdout",
     "output_type": "stream",
     "text": [
      "age should be an integer\n"
     ]
    }
   ],
   "source": [
    "#  e) Make a function for schema validation and try input the two examples and see if you get correct answer. \n",
    "#  Also make other examples and test your function.\n",
    "\n",
    "# TO DO: check with KG if he means the following:\n",
    "# Validate that the:\n",
    "# #  - id is integer, \n",
    "# #  - name is string, \n",
    "# #  - is_active is boolean \n",
    "# #  - and age is integer. \n",
    "\n",
    "def data_validation(data_dict):\n",
    "    if (type(data_dict[\"id\"]) == int):\n",
    "        pass\n",
    "    else:\n",
    "        print(f\"id should be an integer\")\n",
    "    if (type(data_dict[\"name\"]) == str):\n",
    "        pass\n",
    "    else:\n",
    "        print(f\"name should be an integer\")\n",
    "    if (type(data_dict[\"is_active\"]) == bool):\n",
    "        pass\n",
    "    else:\n",
    "        print(f\"is_active should be an integer\")\n",
    "    if (type(data_dict[\"age\"]) == int):\n",
    "        pass\n",
    "    else:\n",
    "        print(f\"age should be an integer\")\n",
    "\n",
    "data_validation(c_list[2])\n"
   ]
  },
  {
   "cell_type": "markdown",
   "metadata": {},
   "source": [
    "### 3. Extract data from logs"
   ]
  },
  {
   "cell_type": "markdown",
   "metadata": {},
   "source": []
  }
 ],
 "metadata": {
  "kernelspec": {
   "display_name": ".venv",
   "language": "python",
   "name": "python3"
  },
  "language_info": {
   "codemirror_mode": {
    "name": "ipython",
    "version": 3
   },
   "file_extension": ".py",
   "mimetype": "text/x-python",
   "name": "python",
   "nbconvert_exporter": "python",
   "pygments_lexer": "ipython3",
   "version": "3.13.1"
  }
 },
 "nbformat": 4,
 "nbformat_minor": 2
}
