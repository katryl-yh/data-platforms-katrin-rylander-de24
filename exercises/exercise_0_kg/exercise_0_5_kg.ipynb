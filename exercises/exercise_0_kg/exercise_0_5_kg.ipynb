{
 "cells": [
  {
   "cell_type": "markdown",
   "metadata": {},
   "source": [
    "# Solving exercises"
   ]
  },
  {
   "cell_type": "markdown",
   "metadata": {},
   "source": [
    "### 5. Simulating data streams\n",
    "##### Based on this simulated stream, print out the result processed record if the record is not the STOP signal. Print out with 1 second delay between each processed record."
   ]
  },
  {
   "cell_type": "code",
   "execution_count": 1,
   "metadata": {},
   "outputs": [],
   "source": [
    "simualated_stream = [\"record1\", \"record2\", \"record3\", \"record4\", \"STOP\", \"record5\"]"
   ]
  },
  {
   "cell_type": "code",
   "execution_count": 10,
   "metadata": {},
   "outputs": [
    {
     "name": "stdout",
     "output_type": "stream",
     "text": [
      "Starting data stream processing...\n",
      "\n",
      "Processed: record1 \n",
      "Processed: record2 \n",
      "Processed: record3 \n",
      "Processed: record4 \n",
      "STOP signal encountered. Ending stream processing.\n",
      "\n",
      "Data stream processing completed. Have a nice day\n"
     ]
    }
   ],
   "source": [
    "import time\n",
    "print(\"Starting data stream processing...\\n\")\n",
    "\n",
    "for element in simualated_stream:\n",
    "    if element != \"STOP\":\n",
    "        time.sleep(1)  # Delay for 1 second\n",
    "        print(f\"Processed: {element} \")\n",
    "    else:\n",
    "        time.sleep(1)  # Delay for 1 second\n",
    "        print(\"STOP signal encountered. Ending stream processing.\")\n",
    "        break\n",
    "    \n",
    "time.sleep(1)\n",
    "print(\"\\nData stream processing completed. Have a nice day!\")"
   ]
  },
  {
   "cell_type": "code",
   "execution_count": null,
   "metadata": {},
   "outputs": [],
   "source": []
  }
 ],
 "metadata": {
  "kernelspec": {
   "display_name": ".venv",
   "language": "python",
   "name": "python3"
  },
  "language_info": {
   "codemirror_mode": {
    "name": "ipython",
    "version": 3
   },
   "file_extension": ".py",
   "mimetype": "text/x-python",
   "name": "python",
   "nbconvert_exporter": "python",
   "pygments_lexer": "ipython3",
   "version": "3.13.1"
  }
 },
 "nbformat": 4,
 "nbformat_minor": 2
}
