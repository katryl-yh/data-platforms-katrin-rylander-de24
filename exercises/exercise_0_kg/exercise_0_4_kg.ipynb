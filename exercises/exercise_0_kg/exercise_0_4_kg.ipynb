{
 "cells": [
  {
   "cell_type": "markdown",
   "metadata": {},
   "source": [
    "# Solving exercises"
   ]
  },
  {
   "cell_type": "markdown",
   "metadata": {},
   "source": [
    "#### 4. Aggregating json data\n",
    "#### Here we will do group by and sum aggregation without using pandas or sql, but plain python to practice the underlying mechanics behind the language.\n",
    "\n",
    "#### a) Read in the file paid.json inside of the data folder. Hint: use load() function from the json library."
   ]
  },
  {
   "cell_type": "code",
   "execution_count": 32,
   "metadata": {},
   "outputs": [
    {
     "name": "stdout",
     "output_type": "stream",
     "text": [
      "<class 'list'>\n"
     ]
    },
    {
     "data": {
      "text/plain": [
       "[{'name': 'Alice', 'paid': 100},\n",
       " {'name': 'Bob', 'paid': 200},\n",
       " {'name': 'Alice', 'paid': 150},\n",
       " {'name': 'Erik', 'paid': 180},\n",
       " {'name': 'Maja', 'paid': 220},\n",
       " {'name': 'Bob', 'paid': 180},\n",
       " {'name': 'Alice', 'paid': 130},\n",
       " {'name': 'Oskar', 'paid': 140},\n",
       " {'name': 'Elsa', 'paid': 170},\n",
       " {'name': 'Maja', 'paid': 250},\n",
       " {'name': 'Liam', 'paid': 210},\n",
       " {'name': 'Alice', 'paid': 190},\n",
       " {'name': 'Astrid', 'paid': 190},\n",
       " {'name': 'Elsa', 'paid': 150},\n",
       " {'name': 'Bob', 'paid': 120},\n",
       " {'name': 'Erik', 'paid': 200},\n",
       " {'name': 'Maja', 'paid': 180},\n",
       " {'name': 'Liam', 'paid': 170},\n",
       " {'name': 'Bob', 'paid': 140},\n",
       " {'name': 'Oskar', 'paid': 160},\n",
       " {'name': 'Freja', 'paid': 240},\n",
       " {'name': 'Hugo', 'paid': 250},\n",
       " {'name': 'Freja', 'paid': 200},\n",
       " {'name': 'Nils', 'paid': 130},\n",
       " {'name': 'Freja', 'paid': 180},\n",
       " {'name': 'Wilma', 'paid': 200},\n",
       " {'name': 'Alexander', 'paid': 260},\n",
       " {'name': 'Clara', 'paid': 280},\n",
       " {'name': 'Alice', 'paid': 175},\n",
       " {'name': 'Selma', 'paid': 175},\n",
       " {'name': 'Erik', 'paid': 190},\n",
       " {'name': 'Elias', 'paid': 190}]"
      ]
     },
     "execution_count": 32,
     "metadata": {},
     "output_type": "execute_result"
    }
   ],
   "source": [
    "import json\n",
    "# Opening JSON file\n",
    "with open(\"data/paid.json\") as my_json:\n",
    "# returns JSON object as \n",
    "# a dictionary\n",
    "    data= json.load(my_json)\n",
    "    \n",
    "print(type(data))\n",
    "data"
   ]
  },
  {
   "cell_type": "code",
   "execution_count": 48,
   "metadata": {},
   "outputs": [
    {
     "data": {
      "text/plain": [
       "200"
      ]
     },
     "execution_count": 48,
     "metadata": {},
     "output_type": "execute_result"
    }
   ],
   "source": [
    "data[0]\n",
    "data[1]['paid']"
   ]
  },
  {
   "cell_type": "markdown",
   "metadata": {},
   "source": [
    "#### b) Now group each name and sum over the total payment. Hint: use defaultdict(int) from collections library"
   ]
  },
  {
   "cell_type": "code",
   "execution_count": 53,
   "metadata": {},
   "outputs": [
    {
     "name": "stdout",
     "output_type": "stream",
     "text": [
      "['Alice', 'Bob', 'Erik', 'Maja', 'Oskar', 'Elsa', 'Liam', 'Astrid', 'Freja', 'Hugo', 'Nils', 'Wilma', 'Alexander', 'Clara', 'Selma', 'Elias']\n",
      "16\n"
     ]
    }
   ],
   "source": [
    "names = []\n",
    "\n",
    "for row in data:\n",
    "    if row[\"name\"] not in names:\n",
    "        names.append(row[\"name\"])\n",
    "print(names)\n",
    "print(len(names))"
   ]
  },
  {
   "cell_type": "code",
   "execution_count": 55,
   "metadata": {},
   "outputs": [
    {
     "name": "stdout",
     "output_type": "stream",
     "text": [
      "[745, 640, 570, 650, 300, 320, 380, 190, 620, 250, 130, 200, 260, 280, 175, 190]\n",
      "16\n"
     ]
    }
   ],
   "source": [
    "total_payment = []\n",
    "\n",
    "for name in names:\n",
    "    total_per_name=0\n",
    "    for row in data:\n",
    "        if row[\"name\"] == name:\n",
    "            #print(row[\"paid\"])\n",
    "            total_per_name += row[\"paid\"]\n",
    "    total_payment.append(total_per_name)\n",
    "\n",
    "print(total_payment)\n",
    "print(len(total_payment))"
   ]
  },
  {
   "cell_type": "code",
   "execution_count": 70,
   "metadata": {},
   "outputs": [
    {
     "data": {
      "text/plain": [
       "defaultdict(int,\n",
       "            {'Alice': 745,\n",
       "             'Bob': 640,\n",
       "             'Erik': 570,\n",
       "             'Maja': 650,\n",
       "             'Oskar': 300,\n",
       "             'Elsa': 320,\n",
       "             'Liam': 380,\n",
       "             'Astrid': 190,\n",
       "             'Freja': 620,\n",
       "             'Hugo': 250,\n",
       "             'Nils': 130,\n",
       "             'Wilma': 200,\n",
       "             'Alexander': 260,\n",
       "             'Clara': 280,\n",
       "             'Selma': 175,\n",
       "             'Elias': 190})"
      ]
     },
     "execution_count": 70,
     "metadata": {},
     "output_type": "execute_result"
    }
   ],
   "source": [
    "from collections import defaultdict\n",
    "d = defaultdict(int)\n",
    "\n",
    "\n",
    "for name, payment in zip(names, total_payment):\n",
    "    d[name]=payment\n",
    "\n",
    "d"
   ]
  },
  {
   "cell_type": "code",
   "execution_count": 73,
   "metadata": {},
   "outputs": [
    {
     "data": {
      "text/plain": [
       "dict"
      ]
     },
     "execution_count": 73,
     "metadata": {},
     "output_type": "execute_result"
    }
   ],
   "source": [
    "payment_sum_dict = dict(d)\n",
    "type(payment_sum_dict)"
   ]
  },
  {
   "cell_type": "markdown",
   "metadata": {},
   "source": [
    "#### c) Output the result into a new json file called payment_sum.json."
   ]
  },
  {
   "cell_type": "code",
   "execution_count": 75,
   "metadata": {},
   "outputs": [],
   "source": [
    "with open(\"data/payment_sum.json\", \"w\") as output_file:\n",
    "    json.dump(payment_sum_dict, output_file)"
   ]
  }
 ],
 "metadata": {
  "kernelspec": {
   "display_name": ".venv",
   "language": "python",
   "name": "python3"
  },
  "language_info": {
   "codemirror_mode": {
    "name": "ipython",
    "version": 3
   },
   "file_extension": ".py",
   "mimetype": "text/x-python",
   "name": "python",
   "nbconvert_exporter": "python",
   "pygments_lexer": "ipython3",
   "version": "3.13.1"
  }
 },
 "nbformat": 4,
 "nbformat_minor": 2
}
