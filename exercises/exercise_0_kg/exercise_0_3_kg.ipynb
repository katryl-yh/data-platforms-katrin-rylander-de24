{
 "cells": [
  {
   "cell_type": "markdown",
   "metadata": {},
   "source": [
    "# Solving exercises"
   ]
  },
  {
   "cell_type": "markdown",
   "metadata": {},
   "source": [
    "#### 3. Extract data from logs\n",
    "\n",
    "#### In data engineering, log files and log messages are very common. Sometimes you need to parse them to find valuable information, for example for debugging reasons.\n",
    "\n",
    "#### Read in network.log and extract source IP, destination IP, protocol and data size."
   ]
  },
  {
   "cell_type": "code",
   "execution_count": 77,
   "metadata": {},
   "outputs": [],
   "source": [
    "schema = { \"Source\": str, \"Destination\": str, \"Protocol\": str, \"Bytes\":int}\n",
    "log_list = []\n",
    "\n",
    "protocols = []\n",
    "\n",
    "with open(\"data/network.log\", \"r\") as file:\n",
    "    # Iterate through each line in the file\n",
    "    for line in file:\n",
    "        log = {}\n",
    "        # Strip any leading/trailing whitespace and split by the pipe (|)\n",
    "        fields = [element.strip() for element in line.strip().split('|')]\n",
    "        #print(fields)\n",
    "        log[\"Source\"] = fields[1][-8:]\n",
    "        log[\"Destination\"] = fields[2][-8:]\n",
    "        log[\"Protocol\"] = fields[3][-3:]\n",
    "        if log[\"Protocol\"] not in protocols:\n",
    "            protocols.append(log[\"Protocol\"])\n",
    "        log[\"Bytes\"] = int(fields[4][7:])\n",
    "        #print(log)\n",
    "        log_list.append(log)\n"
   ]
  },
  {
   "cell_type": "code",
   "execution_count": 78,
   "metadata": {},
   "outputs": [
    {
     "name": "stdout",
     "output_type": "stream",
     "text": [
      "[{'Source': '10.0.0.1', 'Destination': '10.0.0.2', 'Protocol': 'TCP', 'Bytes': 1024}, {'Source': '10.0.0.2', 'Destination': '10.0.0.3', 'Protocol': 'UDP', 'Bytes': 2048}, {'Source': '10.0.0.3', 'Destination': '10.0.0.1', 'Protocol': 'TCP', 'Bytes': 512}]\n",
      "['TCP', 'UDP']\n"
     ]
    }
   ],
   "source": [
    "print(log_list)\n",
    "print(protocols)  "
   ]
  },
  {
   "cell_type": "code",
   "execution_count": 79,
   "metadata": {},
   "outputs": [
    {
     "name": "stdout",
     "output_type": "stream",
     "text": [
      "['TCP', 'UDP']\n",
      "[1536, 2048]\n"
     ]
    }
   ],
   "source": [
    "list_total_bytes = []\n",
    "\n",
    "for protocol in protocols:\n",
    "    total_bytes = 0\n",
    "    for log in log_list:\n",
    "        if log[\"Protocol\"] == protocol:\n",
    "            total_bytes += log[\"Bytes\"]\n",
    "    list_total_bytes.append(total_bytes)\n",
    "\n",
    "\n",
    "print(protocols)\n",
    "print(list_total_bytes)\n"
   ]
  },
  {
   "cell_type": "code",
   "execution_count": 80,
   "metadata": {},
   "outputs": [],
   "source": [
    "from collections import defaultdict\n",
    "d = defaultdict(int)\n",
    "\n",
    "\n",
    "for protocol, total_bytes in zip(protocols, list_total_bytes):\n",
    "    d[protocol]=total_bytes"
   ]
  },
  {
   "cell_type": "code",
   "execution_count": 81,
   "metadata": {},
   "outputs": [
    {
     "name": "stdout",
     "output_type": "stream",
     "text": [
      "defaultdict(<class 'int'>, {'TCP': 1536, 'UDP': 2048})\n"
     ]
    }
   ],
   "source": [
    "print(d)"
   ]
  },
  {
   "cell_type": "code",
   "execution_count": null,
   "metadata": {},
   "outputs": [],
   "source": [
    "\n",
    "\n",
    "print(\"Data Transfer Summary:\")"
   ]
  }
 ],
 "metadata": {
  "kernelspec": {
   "display_name": ".venv",
   "language": "python",
   "name": "python3"
  },
  "language_info": {
   "codemirror_mode": {
    "name": "ipython",
    "version": 3
   },
   "file_extension": ".py",
   "mimetype": "text/x-python",
   "name": "python",
   "nbconvert_exporter": "python",
   "pygments_lexer": "ipython3",
   "version": "3.13.1"
  }
 },
 "nbformat": 4,
 "nbformat_minor": 2
}
