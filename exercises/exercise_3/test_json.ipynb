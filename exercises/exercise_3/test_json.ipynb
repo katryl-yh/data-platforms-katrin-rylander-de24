{
 "cells": [
  {
   "cell_type": "code",
   "execution_count": 3,
   "metadata": {},
   "outputs": [
    {
     "name": "stdout",
     "output_type": "stream",
     "text": [
      "   order_id       customer                                           products  \\\n",
      "0  ORD-1001       John Doe  [{'name': 'Laptop', 'price': 999.99, 'quantity...   \n",
      "1  ORD-1002     Jane Smith  [{'name': 'Smartphone', 'price': 699.99, 'quan...   \n",
      "2  ORD-1003  Alice Johnson  [{'name': 'Tablet', 'price': 499.99, 'quantity...   \n",
      "3  ORD-1004      Bob Brown  [{'name': 'Headphones', 'price': 199.99, 'quan...   \n",
      "4  ORD-1005  Charlie Davis  [{'name': 'Monitor', 'price': 299.99, 'quantit...   \n",
      "\n",
      "   order_date      status  \n",
      "0  2024-01-25     Shipped  \n",
      "1  2024-01-24  Processing  \n",
      "2  2024-01-23   Delivered  \n",
      "3  2024-01-22   Cancelled  \n",
      "4  2024-01-21     Shipped  \n"
     ]
    }
   ],
   "source": [
    "import pandas as pd\n",
    "import json\n",
    "# Convert JSON string to Pandas DataFrame\n",
    "df = pd.read_json(\"orders.json\")\n",
    "\n",
    "# Print DataFrame\n",
    "print(df.head())\n"
   ]
  },
  {
   "cell_type": "code",
   "execution_count": 5,
   "metadata": {},
   "outputs": [
    {
     "name": "stdout",
     "output_type": "stream",
     "text": [
      "order_id                                               ORD-1001\n",
      "customer                                               John Doe\n",
      "products      [{'name': 'Laptop', 'price': 999.99, 'quantity...\n",
      "order_date                                           2024-01-25\n",
      "status                                                  Shipped\n",
      "Name: 0, dtype: object\n"
     ]
    }
   ],
   "source": [
    "print(df.iloc[0] )"
   ]
  },
  {
   "cell_type": "code",
   "execution_count": 13,
   "metadata": {},
   "outputs": [],
   "source": [
    "df_not_cancelled = df[df[\"status\"]!=\"Cancelled\"]"
   ]
  },
  {
   "cell_type": "code",
   "execution_count": 14,
   "metadata": {},
   "outputs": [
    {
     "data": {
      "text/html": [
       "<div>\n",
       "<style scoped>\n",
       "    .dataframe tbody tr th:only-of-type {\n",
       "        vertical-align: middle;\n",
       "    }\n",
       "\n",
       "    .dataframe tbody tr th {\n",
       "        vertical-align: top;\n",
       "    }\n",
       "\n",
       "    .dataframe thead th {\n",
       "        text-align: right;\n",
       "    }\n",
       "</style>\n",
       "<table border=\"1\" class=\"dataframe\">\n",
       "  <thead>\n",
       "    <tr style=\"text-align: right;\">\n",
       "      <th></th>\n",
       "      <th>order_id</th>\n",
       "      <th>customer</th>\n",
       "      <th>products</th>\n",
       "      <th>order_date</th>\n",
       "      <th>status</th>\n",
       "    </tr>\n",
       "  </thead>\n",
       "  <tbody>\n",
       "    <tr>\n",
       "      <th>0</th>\n",
       "      <td>ORD-1001</td>\n",
       "      <td>John Doe</td>\n",
       "      <td>[{'name': 'Laptop', 'price': 999.99, 'quantity...</td>\n",
       "      <td>2024-01-25</td>\n",
       "      <td>Shipped</td>\n",
       "    </tr>\n",
       "    <tr>\n",
       "      <th>1</th>\n",
       "      <td>ORD-1002</td>\n",
       "      <td>Jane Smith</td>\n",
       "      <td>[{'name': 'Smartphone', 'price': 699.99, 'quan...</td>\n",
       "      <td>2024-01-24</td>\n",
       "      <td>Processing</td>\n",
       "    </tr>\n",
       "    <tr>\n",
       "      <th>2</th>\n",
       "      <td>ORD-1003</td>\n",
       "      <td>Alice Johnson</td>\n",
       "      <td>[{'name': 'Tablet', 'price': 499.99, 'quantity...</td>\n",
       "      <td>2024-01-23</td>\n",
       "      <td>Delivered</td>\n",
       "    </tr>\n",
       "    <tr>\n",
       "      <th>4</th>\n",
       "      <td>ORD-1005</td>\n",
       "      <td>Charlie Davis</td>\n",
       "      <td>[{'name': 'Monitor', 'price': 299.99, 'quantit...</td>\n",
       "      <td>2024-01-21</td>\n",
       "      <td>Shipped</td>\n",
       "    </tr>\n",
       "    <tr>\n",
       "      <th>5</th>\n",
       "      <td>ORD-1006</td>\n",
       "      <td>Eve White</td>\n",
       "      <td>[{'name': 'Gaming Keyboard', 'price': 129.99, ...</td>\n",
       "      <td>2024-01-20</td>\n",
       "      <td>Processing</td>\n",
       "    </tr>\n",
       "  </tbody>\n",
       "</table>\n",
       "</div>"
      ],
      "text/plain": [
       "   order_id       customer                                           products  \\\n",
       "0  ORD-1001       John Doe  [{'name': 'Laptop', 'price': 999.99, 'quantity...   \n",
       "1  ORD-1002     Jane Smith  [{'name': 'Smartphone', 'price': 699.99, 'quan...   \n",
       "2  ORD-1003  Alice Johnson  [{'name': 'Tablet', 'price': 499.99, 'quantity...   \n",
       "4  ORD-1005  Charlie Davis  [{'name': 'Monitor', 'price': 299.99, 'quantit...   \n",
       "5  ORD-1006      Eve White  [{'name': 'Gaming Keyboard', 'price': 129.99, ...   \n",
       "\n",
       "   order_date      status  \n",
       "0  2024-01-25     Shipped  \n",
       "1  2024-01-24  Processing  \n",
       "2  2024-01-23   Delivered  \n",
       "4  2024-01-21     Shipped  \n",
       "5  2024-01-20  Processing  "
      ]
     },
     "execution_count": 14,
     "metadata": {},
     "output_type": "execute_result"
    }
   ],
   "source": [
    "df_not_cancelled.head()"
   ]
  },
  {
   "cell_type": "code",
   "execution_count": 18,
   "metadata": {},
   "outputs": [
    {
     "name": "stdout",
     "output_type": "stream",
     "text": [
      "Prouct: {'name': 'Laptop', 'price': 999.99, 'quantity': 1}\n",
      "Prouct: {'name': 'Mouse', 'price': 19.99, 'quantity': 1}\n"
     ]
    }
   ],
   "source": [
    "for element in df_not_cancelled[\"products\"].iloc[0]:\n",
    "    print(f\"Prouct: {element}\" )"
   ]
  },
  {
   "cell_type": "code",
   "execution_count": null,
   "metadata": {},
   "outputs": [],
   "source": []
  }
 ],
 "metadata": {
  "kernelspec": {
   "display_name": ".venv",
   "language": "python",
   "name": "python3"
  },
  "language_info": {
   "codemirror_mode": {
    "name": "ipython",
    "version": 3
   },
   "file_extension": ".py",
   "mimetype": "text/x-python",
   "name": "python",
   "nbconvert_exporter": "python",
   "pygments_lexer": "ipython3",
   "version": "3.12.3"
  }
 },
 "nbformat": 4,
 "nbformat_minor": 2
}
