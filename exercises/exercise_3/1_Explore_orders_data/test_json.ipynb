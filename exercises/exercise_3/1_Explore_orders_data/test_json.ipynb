{
 "cells": [
  {
   "cell_type": "code",
   "execution_count": 1,
   "metadata": {},
   "outputs": [
    {
     "name": "stdout",
     "output_type": "stream",
     "text": [
      "   order_id       customer                                           products  \\\n",
      "0  ORD-1001       John Doe  [{'name': 'Laptop', 'price': 999.99, 'quantity...   \n",
      "1  ORD-1002     Jane Smith  [{'name': 'Smartphone', 'price': 699.99, 'quan...   \n",
      "2  ORD-1003  Alice Johnson  [{'name': 'Tablet', 'price': 499.99, 'quantity...   \n",
      "3  ORD-1004      Bob Brown  [{'name': 'Headphones', 'price': 199.99, 'quan...   \n",
      "4  ORD-1005  Charlie Davis  [{'name': 'Monitor', 'price': 299.99, 'quantit...   \n",
      "\n",
      "   order_date      status  \n",
      "0  2024-01-25     Shipped  \n",
      "1  2024-01-24  Processing  \n",
      "2  2024-01-23   Delivered  \n",
      "3  2024-01-22   Cancelled  \n",
      "4  2024-01-21     Shipped  \n"
     ]
    }
   ],
   "source": [
    "import pandas as pd\n",
    "import json\n",
    "# Convert JSON string to Pandas DataFrame\n",
    "df = pd.read_json(\"orders.json\")\n",
    "\n",
    "# Print DataFrame\n",
    "print(df.head())\n"
   ]
  },
  {
   "cell_type": "code",
   "execution_count": 2,
   "metadata": {},
   "outputs": [
    {
     "name": "stdout",
     "output_type": "stream",
     "text": [
      "order_id                                               ORD-1001\n",
      "customer                                               John Doe\n",
      "products      [{'name': 'Laptop', 'price': 999.99, 'quantity...\n",
      "order_date                                           2024-01-25\n",
      "status                                                  Shipped\n",
      "Name: 0, dtype: object\n"
     ]
    }
   ],
   "source": [
    "print(df.iloc[0] )"
   ]
  },
  {
   "cell_type": "code",
   "execution_count": 3,
   "metadata": {},
   "outputs": [],
   "source": [
    "df_not_cancelled = df[df[\"status\"]!=\"Cancelled\"]"
   ]
  },
  {
   "cell_type": "code",
   "execution_count": 4,
   "metadata": {},
   "outputs": [
    {
     "data": {
      "text/html": [
       "<div>\n",
       "<style scoped>\n",
       "    .dataframe tbody tr th:only-of-type {\n",
       "        vertical-align: middle;\n",
       "    }\n",
       "\n",
       "    .dataframe tbody tr th {\n",
       "        vertical-align: top;\n",
       "    }\n",
       "\n",
       "    .dataframe thead th {\n",
       "        text-align: right;\n",
       "    }\n",
       "</style>\n",
       "<table border=\"1\" class=\"dataframe\">\n",
       "  <thead>\n",
       "    <tr style=\"text-align: right;\">\n",
       "      <th></th>\n",
       "      <th>order_id</th>\n",
       "      <th>customer</th>\n",
       "      <th>products</th>\n",
       "      <th>order_date</th>\n",
       "      <th>status</th>\n",
       "    </tr>\n",
       "  </thead>\n",
       "  <tbody>\n",
       "    <tr>\n",
       "      <th>0</th>\n",
       "      <td>ORD-1001</td>\n",
       "      <td>John Doe</td>\n",
       "      <td>[{'name': 'Laptop', 'price': 999.99, 'quantity...</td>\n",
       "      <td>2024-01-25</td>\n",
       "      <td>Shipped</td>\n",
       "    </tr>\n",
       "    <tr>\n",
       "      <th>1</th>\n",
       "      <td>ORD-1002</td>\n",
       "      <td>Jane Smith</td>\n",
       "      <td>[{'name': 'Smartphone', 'price': 699.99, 'quan...</td>\n",
       "      <td>2024-01-24</td>\n",
       "      <td>Processing</td>\n",
       "    </tr>\n",
       "    <tr>\n",
       "      <th>2</th>\n",
       "      <td>ORD-1003</td>\n",
       "      <td>Alice Johnson</td>\n",
       "      <td>[{'name': 'Tablet', 'price': 499.99, 'quantity...</td>\n",
       "      <td>2024-01-23</td>\n",
       "      <td>Delivered</td>\n",
       "    </tr>\n",
       "    <tr>\n",
       "      <th>4</th>\n",
       "      <td>ORD-1005</td>\n",
       "      <td>Charlie Davis</td>\n",
       "      <td>[{'name': 'Monitor', 'price': 299.99, 'quantit...</td>\n",
       "      <td>2024-01-21</td>\n",
       "      <td>Shipped</td>\n",
       "    </tr>\n",
       "    <tr>\n",
       "      <th>5</th>\n",
       "      <td>ORD-1006</td>\n",
       "      <td>Eve White</td>\n",
       "      <td>[{'name': 'Gaming Keyboard', 'price': 129.99, ...</td>\n",
       "      <td>2024-01-20</td>\n",
       "      <td>Processing</td>\n",
       "    </tr>\n",
       "  </tbody>\n",
       "</table>\n",
       "</div>"
      ],
      "text/plain": [
       "   order_id       customer                                           products  \\\n",
       "0  ORD-1001       John Doe  [{'name': 'Laptop', 'price': 999.99, 'quantity...   \n",
       "1  ORD-1002     Jane Smith  [{'name': 'Smartphone', 'price': 699.99, 'quan...   \n",
       "2  ORD-1003  Alice Johnson  [{'name': 'Tablet', 'price': 499.99, 'quantity...   \n",
       "4  ORD-1005  Charlie Davis  [{'name': 'Monitor', 'price': 299.99, 'quantit...   \n",
       "5  ORD-1006      Eve White  [{'name': 'Gaming Keyboard', 'price': 129.99, ...   \n",
       "\n",
       "   order_date      status  \n",
       "0  2024-01-25     Shipped  \n",
       "1  2024-01-24  Processing  \n",
       "2  2024-01-23   Delivered  \n",
       "4  2024-01-21     Shipped  \n",
       "5  2024-01-20  Processing  "
      ]
     },
     "execution_count": 4,
     "metadata": {},
     "output_type": "execute_result"
    }
   ],
   "source": [
    "df_not_cancelled.head()"
   ]
  },
  {
   "cell_type": "code",
   "execution_count": 5,
   "metadata": {},
   "outputs": [],
   "source": [
    "def print_info(row):\n",
    "    print(f\"Input: {row.to_dict()} \")\n",
    "    total_price = 0\n",
    "    for element in row[\"products\"]:\n",
    "        total_price +=element[\"quantity\"]*element[\"price\"]\n",
    "        print(f\"Product: {element[\"name\"]}\\t\\tQuantity: {element[\"quantity\"]}\\tPrice: {element[\"price\"]}\" )\n",
    "        \n",
    "    print(f\"Total price: {total_price}\")\n",
    "    print()"
   ]
  },
  {
   "cell_type": "code",
   "execution_count": 6,
   "metadata": {},
   "outputs": [
    {
     "name": "stdout",
     "output_type": "stream",
     "text": [
      "Input: {'order_id': 'ORD-1001', 'customer': 'John Doe', 'products': [{'name': 'Laptop', 'price': 999.99, 'quantity': 1}, {'name': 'Mouse', 'price': 19.99, 'quantity': 1}], 'order_date': '2024-01-25', 'status': 'Shipped'} \n",
      "Product: Laptop\t\tQuantity: 1\tPrice: 999.99\n",
      "Product: Mouse\t\tQuantity: 1\tPrice: 19.99\n",
      "Total price: 1019.98\n",
      "\n",
      "Input: {'order_id': 'ORD-1002', 'customer': 'Jane Smith', 'products': [{'name': 'Smartphone', 'price': 699.99, 'quantity': 1}, {'name': 'Charger', 'price': 29.99, 'quantity': 2}], 'order_date': '2024-01-24', 'status': 'Processing'} \n",
      "Product: Smartphone\t\tQuantity: 1\tPrice: 699.99\n",
      "Product: Charger\t\tQuantity: 2\tPrice: 29.99\n",
      "Total price: 759.97\n",
      "\n",
      "Input: {'order_id': 'ORD-1003', 'customer': 'Alice Johnson', 'products': [{'name': 'Tablet', 'price': 499.99, 'quantity': 1}], 'order_date': '2024-01-23', 'status': 'Delivered'} \n",
      "Product: Tablet\t\tQuantity: 1\tPrice: 499.99\n",
      "Total price: 499.99\n",
      "\n",
      "Input: {'order_id': 'ORD-1004', 'customer': 'Bob Brown', 'products': [{'name': 'Headphones', 'price': 199.99, 'quantity': 1}, {'name': 'Microphone', 'price': 79.99, 'quantity': 1}], 'order_date': '2024-01-22', 'status': 'Cancelled'} \n",
      "Product: Headphones\t\tQuantity: 1\tPrice: 199.99\n",
      "Product: Microphone\t\tQuantity: 1\tPrice: 79.99\n",
      "Total price: 279.98\n",
      "\n",
      "Input: {'order_id': 'ORD-1005', 'customer': 'Charlie Davis', 'products': [{'name': 'Monitor', 'price': 299.99, 'quantity': 2}], 'order_date': '2024-01-21', 'status': 'Shipped'} \n",
      "Product: Monitor\t\tQuantity: 2\tPrice: 299.99\n",
      "Total price: 599.98\n",
      "\n",
      "Input: {'order_id': 'ORD-1006', 'customer': 'Eve White', 'products': [{'name': 'Gaming Keyboard', 'price': 129.99, 'quantity': 1}, {'name': 'Gaming Mouse', 'price': 89.99, 'quantity': 1}], 'order_date': '2024-01-20', 'status': 'Processing'} \n",
      "Product: Gaming Keyboard\t\tQuantity: 1\tPrice: 129.99\n",
      "Product: Gaming Mouse\t\tQuantity: 1\tPrice: 89.99\n",
      "Total price: 219.98000000000002\n",
      "\n",
      "Input: {'order_id': 'ORD-1007', 'customer': 'Daniel Wilson', 'products': [{'name': 'External Hard Drive', 'price': 150.0, 'quantity': 1}], 'order_date': '2024-01-19', 'status': 'Delivered'} \n",
      "Product: External Hard Drive\t\tQuantity: 1\tPrice: 150.0\n",
      "Total price: 150.0\n",
      "\n",
      "Input: {'order_id': 'ORD-1008', 'customer': 'Fiona Black', 'products': [{'name': 'Wireless Speaker', 'price': 129.99, 'quantity': 1}], 'order_date': '2024-01-18', 'status': 'Cancelled'} \n",
      "Product: Wireless Speaker\t\tQuantity: 1\tPrice: 129.99\n",
      "Total price: 129.99\n",
      "\n",
      "Input: {'order_id': 'ORD-1009', 'customer': 'George Clark', 'products': [{'name': 'Smartwatch', 'price': 199.99, 'quantity': 1}, {'name': 'USB-C Cable', 'price': 14.99, 'quantity': 2}, {'name': 'Iphone 15', 'price': 600.99, 'quantity': 1}], 'order_date': '2024-01-17', 'status': 'Processing'} \n",
      "Product: Smartwatch\t\tQuantity: 1\tPrice: 199.99\n",
      "Product: USB-C Cable\t\tQuantity: 2\tPrice: 14.99\n",
      "Product: Iphone 15\t\tQuantity: 1\tPrice: 600.99\n",
      "Total price: 830.96\n",
      "\n",
      "Input: {'order_id': 'ORD-1010', 'customer': 'Hannah Green', 'products': [{'name': 'Desktop Computer', 'price': 1200.0, 'quantity': 1}, {'name': 'Monitor', 'price': 200.0, 'quantity': 1}, {'name': 'MX keys', 'price': 99.99, 'quantity': 1}], 'order_date': '2024-01-16', 'status': 'Shipped'} \n",
      "Product: Desktop Computer\t\tQuantity: 1\tPrice: 1200.0\n",
      "Product: Monitor\t\tQuantity: 1\tPrice: 200.0\n",
      "Product: MX keys\t\tQuantity: 1\tPrice: 99.99\n",
      "Total price: 1499.99\n",
      "\n"
     ]
    },
    {
     "data": {
      "text/plain": [
       "0    None\n",
       "1    None\n",
       "2    None\n",
       "3    None\n",
       "4    None\n",
       "5    None\n",
       "6    None\n",
       "7    None\n",
       "8    None\n",
       "9    None\n",
       "dtype: object"
      ]
     },
     "execution_count": 6,
     "metadata": {},
     "output_type": "execute_result"
    }
   ],
   "source": [
    "df.apply(lambda row: print_info(row), axis=1)"
   ]
  },
  {
   "cell_type": "code",
   "execution_count": null,
   "metadata": {},
   "outputs": [],
   "source": []
  }
 ],
 "metadata": {
  "kernelspec": {
   "display_name": ".venv",
   "language": "python",
   "name": "python3"
  },
  "language_info": {
   "codemirror_mode": {
    "name": "ipython",
    "version": 3
   },
   "file_extension": ".py",
   "mimetype": "text/x-python",
   "name": "python",
   "nbconvert_exporter": "python",
   "pygments_lexer": "ipython3",
   "version": "3.12.3"
  }
 },
 "nbformat": 4,
 "nbformat_minor": 2
}
